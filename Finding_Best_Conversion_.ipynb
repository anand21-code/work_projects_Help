{
  "nbformat": 4,
  "nbformat_minor": 0,
  "metadata": {
    "colab": {
      "provenance": [],
      "authorship_tag": "ABX9TyNcbUB9pW9a8RMkpVsgnxz6",
      "include_colab_link": true
    },
    "kernelspec": {
      "name": "python3",
      "display_name": "Python 3"
    },
    "language_info": {
      "name": "python"
    }
  },
  "cells": [
    {
      "cell_type": "markdown",
      "metadata": {
        "id": "view-in-github",
        "colab_type": "text"
      },
      "source": [
        "<a href=\"https://colab.research.google.com/github/anand21-code/work_projects_Help/blob/main/Finding_Best_Conversion_.ipynb\" target=\"_parent\"><img src=\"https://colab.research.google.com/assets/colab-badge.svg\" alt=\"Open In Colab\"/></a>"
      ]
    },
    {
      "cell_type": "code",
      "execution_count": 1,
      "metadata": {
        "colab": {
          "base_uri": "https://localhost:8080/"
        },
        "id": "HaGxGBjkPmKb",
        "outputId": "19241230-0fa6-4b66-bbd8-6ae5386abc37"
      },
      "outputs": [
        {
          "output_type": "stream",
          "name": "stderr",
          "text": [
            "<ipython-input-1-fe02d20cbd28>:6: DtypeWarning: Columns (11) have mixed types. Specify dtype option on import or set low_memory=False.\n",
            "  data = pd.read_csv(\"candidate_dump.csv\")\n"
          ]
        }
      ],
      "source": [
        "import pandas as pd\n",
        "\n",
        "# Download the data from the provided Google Sheets link and save it as a CSV file.\n",
        "\n",
        "# Load the data\n",
        "data = pd.read_csv(\"candidate_dump.csv\")"
      ]
    },
    {
      "cell_type": "code",
      "source": [
        "data.head()"
      ],
      "metadata": {
        "colab": {
          "base_uri": "https://localhost:8080/",
          "height": 348
        },
        "id": "krNkM5JgTlqq",
        "outputId": "e388cf92-e6ed-4c86-b565-3098ae5b33e0"
      },
      "execution_count": 2,
      "outputs": [
        {
          "output_type": "execute_result",
          "data": {
            "text/plain": [
              "   expert_id  team_lead_id  user_id India vs NRI medicalconditionflag funnel  \\\n",
              "0    4158219         57319    88612        India                  Yes    Bot   \n",
              "1    3204022         57319   220396        India                  Yes    Bot   \n",
              "2    7505333       4409298   648533        India                  Yes     FT   \n",
              "3     888689         57319   682607        India                   No    Bot   \n",
              "4    7542742       1140109  2259628        India                  Yes    Bot   \n",
              "\n",
              "            event_type current_status         handled_time  \\\n",
              "0  Booked Consultation           Done  2019-01-22 14:22:03   \n",
              "1  Booked Consultation           Done  2018-12-29 18:43:25   \n",
              "2  Booked Consultation           Done  2018-12-11 16:24:30   \n",
              "3  Booked Consultation     Didnt Pick  2018-12-28 16:03:03   \n",
              "4  Booked Consultation           Done  2019-01-08 14:56:04   \n",
              "\n",
              "       slot_start_time booked_flag         payment_time target_class  \n",
              "0  2019-01-22 10:30:00      Booked  2019-01-26 19:24:57            B  \n",
              "1  2018-12-29 17:45:00      Booked  2018-12-29 19:40:26            A  \n",
              "2  2018-12-11 15:45:00      Booked  2018-12-11 16:23:35            C  \n",
              "3  2018-12-28 15:30:00      Booked  2019-01-05 18:25:42            A  \n",
              "4  2019-01-05 13:30:00      Booked  2019-01-08 16:30:01            C  "
            ],
            "text/html": [
              "\n",
              "  <div id=\"df-6fc1b744-a0ab-4c43-8561-22771e4939bd\" class=\"colab-df-container\">\n",
              "    <div>\n",
              "<style scoped>\n",
              "    .dataframe tbody tr th:only-of-type {\n",
              "        vertical-align: middle;\n",
              "    }\n",
              "\n",
              "    .dataframe tbody tr th {\n",
              "        vertical-align: top;\n",
              "    }\n",
              "\n",
              "    .dataframe thead th {\n",
              "        text-align: right;\n",
              "    }\n",
              "</style>\n",
              "<table border=\"1\" class=\"dataframe\">\n",
              "  <thead>\n",
              "    <tr style=\"text-align: right;\">\n",
              "      <th></th>\n",
              "      <th>expert_id</th>\n",
              "      <th>team_lead_id</th>\n",
              "      <th>user_id</th>\n",
              "      <th>India vs NRI</th>\n",
              "      <th>medicalconditionflag</th>\n",
              "      <th>funnel</th>\n",
              "      <th>event_type</th>\n",
              "      <th>current_status</th>\n",
              "      <th>handled_time</th>\n",
              "      <th>slot_start_time</th>\n",
              "      <th>booked_flag</th>\n",
              "      <th>payment_time</th>\n",
              "      <th>target_class</th>\n",
              "    </tr>\n",
              "  </thead>\n",
              "  <tbody>\n",
              "    <tr>\n",
              "      <th>0</th>\n",
              "      <td>4158219</td>\n",
              "      <td>57319</td>\n",
              "      <td>88612</td>\n",
              "      <td>India</td>\n",
              "      <td>Yes</td>\n",
              "      <td>Bot</td>\n",
              "      <td>Booked Consultation</td>\n",
              "      <td>Done</td>\n",
              "      <td>2019-01-22 14:22:03</td>\n",
              "      <td>2019-01-22 10:30:00</td>\n",
              "      <td>Booked</td>\n",
              "      <td>2019-01-26 19:24:57</td>\n",
              "      <td>B</td>\n",
              "    </tr>\n",
              "    <tr>\n",
              "      <th>1</th>\n",
              "      <td>3204022</td>\n",
              "      <td>57319</td>\n",
              "      <td>220396</td>\n",
              "      <td>India</td>\n",
              "      <td>Yes</td>\n",
              "      <td>Bot</td>\n",
              "      <td>Booked Consultation</td>\n",
              "      <td>Done</td>\n",
              "      <td>2018-12-29 18:43:25</td>\n",
              "      <td>2018-12-29 17:45:00</td>\n",
              "      <td>Booked</td>\n",
              "      <td>2018-12-29 19:40:26</td>\n",
              "      <td>A</td>\n",
              "    </tr>\n",
              "    <tr>\n",
              "      <th>2</th>\n",
              "      <td>7505333</td>\n",
              "      <td>4409298</td>\n",
              "      <td>648533</td>\n",
              "      <td>India</td>\n",
              "      <td>Yes</td>\n",
              "      <td>FT</td>\n",
              "      <td>Booked Consultation</td>\n",
              "      <td>Done</td>\n",
              "      <td>2018-12-11 16:24:30</td>\n",
              "      <td>2018-12-11 15:45:00</td>\n",
              "      <td>Booked</td>\n",
              "      <td>2018-12-11 16:23:35</td>\n",
              "      <td>C</td>\n",
              "    </tr>\n",
              "    <tr>\n",
              "      <th>3</th>\n",
              "      <td>888689</td>\n",
              "      <td>57319</td>\n",
              "      <td>682607</td>\n",
              "      <td>India</td>\n",
              "      <td>No</td>\n",
              "      <td>Bot</td>\n",
              "      <td>Booked Consultation</td>\n",
              "      <td>Didnt Pick</td>\n",
              "      <td>2018-12-28 16:03:03</td>\n",
              "      <td>2018-12-28 15:30:00</td>\n",
              "      <td>Booked</td>\n",
              "      <td>2019-01-05 18:25:42</td>\n",
              "      <td>A</td>\n",
              "    </tr>\n",
              "    <tr>\n",
              "      <th>4</th>\n",
              "      <td>7542742</td>\n",
              "      <td>1140109</td>\n",
              "      <td>2259628</td>\n",
              "      <td>India</td>\n",
              "      <td>Yes</td>\n",
              "      <td>Bot</td>\n",
              "      <td>Booked Consultation</td>\n",
              "      <td>Done</td>\n",
              "      <td>2019-01-08 14:56:04</td>\n",
              "      <td>2019-01-05 13:30:00</td>\n",
              "      <td>Booked</td>\n",
              "      <td>2019-01-08 16:30:01</td>\n",
              "      <td>C</td>\n",
              "    </tr>\n",
              "  </tbody>\n",
              "</table>\n",
              "</div>\n",
              "    <div class=\"colab-df-buttons\">\n",
              "      \n",
              "  <div class=\"colab-df-container\">\n",
              "    <button class=\"colab-df-convert\" onclick=\"convertToInteractive('df-6fc1b744-a0ab-4c43-8561-22771e4939bd')\"\n",
              "            title=\"Convert this dataframe to an interactive table.\"\n",
              "            style=\"display:none;\">\n",
              "      \n",
              "  <svg xmlns=\"http://www.w3.org/2000/svg\" height=\"24px\" viewBox=\"0 -960 960 960\">\n",
              "    <path d=\"M120-120v-720h720v720H120Zm60-500h600v-160H180v160Zm220 220h160v-160H400v160Zm0 220h160v-160H400v160ZM180-400h160v-160H180v160Zm440 0h160v-160H620v160ZM180-180h160v-160H180v160Zm440 0h160v-160H620v160Z\"/>\n",
              "  </svg>\n",
              "    </button>\n",
              "    \n",
              "  <style>\n",
              "    .colab-df-container {\n",
              "      display:flex;\n",
              "      gap: 12px;\n",
              "    }\n",
              "\n",
              "    .colab-df-convert {\n",
              "      background-color: #E8F0FE;\n",
              "      border: none;\n",
              "      border-radius: 50%;\n",
              "      cursor: pointer;\n",
              "      display: none;\n",
              "      fill: #1967D2;\n",
              "      height: 32px;\n",
              "      padding: 0 0 0 0;\n",
              "      width: 32px;\n",
              "    }\n",
              "\n",
              "    .colab-df-convert:hover {\n",
              "      background-color: #E2EBFA;\n",
              "      box-shadow: 0px 1px 2px rgba(60, 64, 67, 0.3), 0px 1px 3px 1px rgba(60, 64, 67, 0.15);\n",
              "      fill: #174EA6;\n",
              "    }\n",
              "\n",
              "    .colab-df-buttons div {\n",
              "      margin-bottom: 4px;\n",
              "    }\n",
              "\n",
              "    [theme=dark] .colab-df-convert {\n",
              "      background-color: #3B4455;\n",
              "      fill: #D2E3FC;\n",
              "    }\n",
              "\n",
              "    [theme=dark] .colab-df-convert:hover {\n",
              "      background-color: #434B5C;\n",
              "      box-shadow: 0px 1px 3px 1px rgba(0, 0, 0, 0.15);\n",
              "      filter: drop-shadow(0px 1px 2px rgba(0, 0, 0, 0.3));\n",
              "      fill: #FFFFFF;\n",
              "    }\n",
              "  </style>\n",
              "\n",
              "    <script>\n",
              "      const buttonEl =\n",
              "        document.querySelector('#df-6fc1b744-a0ab-4c43-8561-22771e4939bd button.colab-df-convert');\n",
              "      buttonEl.style.display =\n",
              "        google.colab.kernel.accessAllowed ? 'block' : 'none';\n",
              "\n",
              "      async function convertToInteractive(key) {\n",
              "        const element = document.querySelector('#df-6fc1b744-a0ab-4c43-8561-22771e4939bd');\n",
              "        const dataTable =\n",
              "          await google.colab.kernel.invokeFunction('convertToInteractive',\n",
              "                                                    [key], {});\n",
              "        if (!dataTable) return;\n",
              "\n",
              "        const docLinkHtml = 'Like what you see? Visit the ' +\n",
              "          '<a target=\"_blank\" href=https://colab.research.google.com/notebooks/data_table.ipynb>data table notebook</a>'\n",
              "          + ' to learn more about interactive tables.';\n",
              "        element.innerHTML = '';\n",
              "        dataTable['output_type'] = 'display_data';\n",
              "        await google.colab.output.renderOutput(dataTable, element);\n",
              "        const docLink = document.createElement('div');\n",
              "        docLink.innerHTML = docLinkHtml;\n",
              "        element.appendChild(docLink);\n",
              "      }\n",
              "    </script>\n",
              "  </div>\n",
              "  \n",
              "    </div>\n",
              "  </div>\n",
              "  "
            ]
          },
          "metadata": {},
          "execution_count": 2
        }
      ]
    },
    {
      "cell_type": "code",
      "source": [
        "data.shape"
      ],
      "metadata": {
        "colab": {
          "base_uri": "https://localhost:8080/"
        },
        "id": "P7OTdWk4T8ts",
        "outputId": "1e139450-af2f-4909-d3c5-0e1db9b14412"
      },
      "execution_count": 3,
      "outputs": [
        {
          "output_type": "execute_result",
          "data": {
            "text/plain": [
              "(73480, 13)"
            ]
          },
          "metadata": {},
          "execution_count": 3
        }
      ]
    },
    {
      "cell_type": "code",
      "source": [
        "# Calculate Conversion Rates\n",
        "# Assuming 'Purchase' is a column that indicates whether a lead made a purchase\n",
        "data['handled_time'] = pd.to_datetime(data['handled_time'])  # Convert date column to datetime\n",
        "data['slot_start_time'] = pd.to_datetime(data['slot_start_time'])"
      ],
      "metadata": {
        "id": "R5_EhxlUTo5a"
      },
      "execution_count": 4,
      "outputs": []
    },
    {
      "cell_type": "code",
      "source": [
        "data.head()"
      ],
      "metadata": {
        "colab": {
          "base_uri": "https://localhost:8080/",
          "height": 348
        },
        "id": "RyiHr_gsUA3s",
        "outputId": "61575216-1de8-4036-f8aa-03e2183fb5fd"
      },
      "execution_count": 5,
      "outputs": [
        {
          "output_type": "execute_result",
          "data": {
            "text/plain": [
              "   expert_id  team_lead_id  user_id India vs NRI medicalconditionflag funnel  \\\n",
              "0    4158219         57319    88612        India                  Yes    Bot   \n",
              "1    3204022         57319   220396        India                  Yes    Bot   \n",
              "2    7505333       4409298   648533        India                  Yes     FT   \n",
              "3     888689         57319   682607        India                   No    Bot   \n",
              "4    7542742       1140109  2259628        India                  Yes    Bot   \n",
              "\n",
              "            event_type current_status        handled_time     slot_start_time  \\\n",
              "0  Booked Consultation           Done 2019-01-22 14:22:03 2019-01-22 10:30:00   \n",
              "1  Booked Consultation           Done 2018-12-29 18:43:25 2018-12-29 17:45:00   \n",
              "2  Booked Consultation           Done 2018-12-11 16:24:30 2018-12-11 15:45:00   \n",
              "3  Booked Consultation     Didnt Pick 2018-12-28 16:03:03 2018-12-28 15:30:00   \n",
              "4  Booked Consultation           Done 2019-01-08 14:56:04 2019-01-05 13:30:00   \n",
              "\n",
              "  booked_flag         payment_time target_class  \n",
              "0      Booked  2019-01-26 19:24:57            B  \n",
              "1      Booked  2018-12-29 19:40:26            A  \n",
              "2      Booked  2018-12-11 16:23:35            C  \n",
              "3      Booked  2019-01-05 18:25:42            A  \n",
              "4      Booked  2019-01-08 16:30:01            C  "
            ],
            "text/html": [
              "\n",
              "  <div id=\"df-0469f7f9-e6c4-412c-9188-7921f0be4458\" class=\"colab-df-container\">\n",
              "    <div>\n",
              "<style scoped>\n",
              "    .dataframe tbody tr th:only-of-type {\n",
              "        vertical-align: middle;\n",
              "    }\n",
              "\n",
              "    .dataframe tbody tr th {\n",
              "        vertical-align: top;\n",
              "    }\n",
              "\n",
              "    .dataframe thead th {\n",
              "        text-align: right;\n",
              "    }\n",
              "</style>\n",
              "<table border=\"1\" class=\"dataframe\">\n",
              "  <thead>\n",
              "    <tr style=\"text-align: right;\">\n",
              "      <th></th>\n",
              "      <th>expert_id</th>\n",
              "      <th>team_lead_id</th>\n",
              "      <th>user_id</th>\n",
              "      <th>India vs NRI</th>\n",
              "      <th>medicalconditionflag</th>\n",
              "      <th>funnel</th>\n",
              "      <th>event_type</th>\n",
              "      <th>current_status</th>\n",
              "      <th>handled_time</th>\n",
              "      <th>slot_start_time</th>\n",
              "      <th>booked_flag</th>\n",
              "      <th>payment_time</th>\n",
              "      <th>target_class</th>\n",
              "    </tr>\n",
              "  </thead>\n",
              "  <tbody>\n",
              "    <tr>\n",
              "      <th>0</th>\n",
              "      <td>4158219</td>\n",
              "      <td>57319</td>\n",
              "      <td>88612</td>\n",
              "      <td>India</td>\n",
              "      <td>Yes</td>\n",
              "      <td>Bot</td>\n",
              "      <td>Booked Consultation</td>\n",
              "      <td>Done</td>\n",
              "      <td>2019-01-22 14:22:03</td>\n",
              "      <td>2019-01-22 10:30:00</td>\n",
              "      <td>Booked</td>\n",
              "      <td>2019-01-26 19:24:57</td>\n",
              "      <td>B</td>\n",
              "    </tr>\n",
              "    <tr>\n",
              "      <th>1</th>\n",
              "      <td>3204022</td>\n",
              "      <td>57319</td>\n",
              "      <td>220396</td>\n",
              "      <td>India</td>\n",
              "      <td>Yes</td>\n",
              "      <td>Bot</td>\n",
              "      <td>Booked Consultation</td>\n",
              "      <td>Done</td>\n",
              "      <td>2018-12-29 18:43:25</td>\n",
              "      <td>2018-12-29 17:45:00</td>\n",
              "      <td>Booked</td>\n",
              "      <td>2018-12-29 19:40:26</td>\n",
              "      <td>A</td>\n",
              "    </tr>\n",
              "    <tr>\n",
              "      <th>2</th>\n",
              "      <td>7505333</td>\n",
              "      <td>4409298</td>\n",
              "      <td>648533</td>\n",
              "      <td>India</td>\n",
              "      <td>Yes</td>\n",
              "      <td>FT</td>\n",
              "      <td>Booked Consultation</td>\n",
              "      <td>Done</td>\n",
              "      <td>2018-12-11 16:24:30</td>\n",
              "      <td>2018-12-11 15:45:00</td>\n",
              "      <td>Booked</td>\n",
              "      <td>2018-12-11 16:23:35</td>\n",
              "      <td>C</td>\n",
              "    </tr>\n",
              "    <tr>\n",
              "      <th>3</th>\n",
              "      <td>888689</td>\n",
              "      <td>57319</td>\n",
              "      <td>682607</td>\n",
              "      <td>India</td>\n",
              "      <td>No</td>\n",
              "      <td>Bot</td>\n",
              "      <td>Booked Consultation</td>\n",
              "      <td>Didnt Pick</td>\n",
              "      <td>2018-12-28 16:03:03</td>\n",
              "      <td>2018-12-28 15:30:00</td>\n",
              "      <td>Booked</td>\n",
              "      <td>2019-01-05 18:25:42</td>\n",
              "      <td>A</td>\n",
              "    </tr>\n",
              "    <tr>\n",
              "      <th>4</th>\n",
              "      <td>7542742</td>\n",
              "      <td>1140109</td>\n",
              "      <td>2259628</td>\n",
              "      <td>India</td>\n",
              "      <td>Yes</td>\n",
              "      <td>Bot</td>\n",
              "      <td>Booked Consultation</td>\n",
              "      <td>Done</td>\n",
              "      <td>2019-01-08 14:56:04</td>\n",
              "      <td>2019-01-05 13:30:00</td>\n",
              "      <td>Booked</td>\n",
              "      <td>2019-01-08 16:30:01</td>\n",
              "      <td>C</td>\n",
              "    </tr>\n",
              "  </tbody>\n",
              "</table>\n",
              "</div>\n",
              "    <div class=\"colab-df-buttons\">\n",
              "      \n",
              "  <div class=\"colab-df-container\">\n",
              "    <button class=\"colab-df-convert\" onclick=\"convertToInteractive('df-0469f7f9-e6c4-412c-9188-7921f0be4458')\"\n",
              "            title=\"Convert this dataframe to an interactive table.\"\n",
              "            style=\"display:none;\">\n",
              "      \n",
              "  <svg xmlns=\"http://www.w3.org/2000/svg\" height=\"24px\" viewBox=\"0 -960 960 960\">\n",
              "    <path d=\"M120-120v-720h720v720H120Zm60-500h600v-160H180v160Zm220 220h160v-160H400v160Zm0 220h160v-160H400v160ZM180-400h160v-160H180v160Zm440 0h160v-160H620v160ZM180-180h160v-160H180v160Zm440 0h160v-160H620v160Z\"/>\n",
              "  </svg>\n",
              "    </button>\n",
              "    \n",
              "  <style>\n",
              "    .colab-df-container {\n",
              "      display:flex;\n",
              "      gap: 12px;\n",
              "    }\n",
              "\n",
              "    .colab-df-convert {\n",
              "      background-color: #E8F0FE;\n",
              "      border: none;\n",
              "      border-radius: 50%;\n",
              "      cursor: pointer;\n",
              "      display: none;\n",
              "      fill: #1967D2;\n",
              "      height: 32px;\n",
              "      padding: 0 0 0 0;\n",
              "      width: 32px;\n",
              "    }\n",
              "\n",
              "    .colab-df-convert:hover {\n",
              "      background-color: #E2EBFA;\n",
              "      box-shadow: 0px 1px 2px rgba(60, 64, 67, 0.3), 0px 1px 3px 1px rgba(60, 64, 67, 0.15);\n",
              "      fill: #174EA6;\n",
              "    }\n",
              "\n",
              "    .colab-df-buttons div {\n",
              "      margin-bottom: 4px;\n",
              "    }\n",
              "\n",
              "    [theme=dark] .colab-df-convert {\n",
              "      background-color: #3B4455;\n",
              "      fill: #D2E3FC;\n",
              "    }\n",
              "\n",
              "    [theme=dark] .colab-df-convert:hover {\n",
              "      background-color: #434B5C;\n",
              "      box-shadow: 0px 1px 3px 1px rgba(0, 0, 0, 0.15);\n",
              "      filter: drop-shadow(0px 1px 2px rgba(0, 0, 0, 0.3));\n",
              "      fill: #FFFFFF;\n",
              "    }\n",
              "  </style>\n",
              "\n",
              "    <script>\n",
              "      const buttonEl =\n",
              "        document.querySelector('#df-0469f7f9-e6c4-412c-9188-7921f0be4458 button.colab-df-convert');\n",
              "      buttonEl.style.display =\n",
              "        google.colab.kernel.accessAllowed ? 'block' : 'none';\n",
              "\n",
              "      async function convertToInteractive(key) {\n",
              "        const element = document.querySelector('#df-0469f7f9-e6c4-412c-9188-7921f0be4458');\n",
              "        const dataTable =\n",
              "          await google.colab.kernel.invokeFunction('convertToInteractive',\n",
              "                                                    [key], {});\n",
              "        if (!dataTable) return;\n",
              "\n",
              "        const docLinkHtml = 'Like what you see? Visit the ' +\n",
              "          '<a target=\"_blank\" href=https://colab.research.google.com/notebooks/data_table.ipynb>data table notebook</a>'\n",
              "          + ' to learn more about interactive tables.';\n",
              "        element.innerHTML = '';\n",
              "        dataTable['output_type'] = 'display_data';\n",
              "        await google.colab.output.renderOutput(dataTable, element);\n",
              "        const docLink = document.createElement('div');\n",
              "        docLink.innerHTML = docLinkHtml;\n",
              "        element.appendChild(docLink);\n",
              "      }\n",
              "    </script>\n",
              "  </div>\n",
              "  \n",
              "    </div>\n",
              "  </div>\n",
              "  "
            ]
          },
          "metadata": {},
          "execution_count": 5
        }
      ]
    },
    {
      "cell_type": "code",
      "source": [
        "data.info()"
      ],
      "metadata": {
        "colab": {
          "base_uri": "https://localhost:8080/"
        },
        "id": "6s9pYPLNUCya",
        "outputId": "bfee6d53-ab2d-4ba7-a837-167549bb6732"
      },
      "execution_count": 6,
      "outputs": [
        {
          "output_type": "stream",
          "name": "stdout",
          "text": [
            "<class 'pandas.core.frame.DataFrame'>\n",
            "RangeIndex: 73480 entries, 0 to 73479\n",
            "Data columns (total 13 columns):\n",
            " #   Column                Non-Null Count  Dtype         \n",
            "---  ------                --------------  -----         \n",
            " 0   expert_id             73480 non-null  int64         \n",
            " 1   team_lead_id          73480 non-null  int64         \n",
            " 2   user_id               73480 non-null  int64         \n",
            " 3   India vs NRI          73480 non-null  object        \n",
            " 4   medicalconditionflag  73480 non-null  object        \n",
            " 5   funnel                73480 non-null  object        \n",
            " 6   event_type            73480 non-null  object        \n",
            " 7   current_status        73480 non-null  object        \n",
            " 8   handled_time          72709 non-null  datetime64[ns]\n",
            " 9   slot_start_time       73480 non-null  datetime64[ns]\n",
            " 10  booked_flag           73480 non-null  object        \n",
            " 11  payment_time          3360 non-null   object        \n",
            " 12  target_class          73480 non-null  object        \n",
            "dtypes: datetime64[ns](2), int64(3), object(8)\n",
            "memory usage: 7.3+ MB\n"
          ]
        }
      ]
    },
    {
      "cell_type": "code",
      "source": [
        "data['purchase'] = data['payment_time'].notna()  # Create a Purchase column based on payment time"
      ],
      "metadata": {
        "id": "vYneHb1uURam"
      },
      "execution_count": 7,
      "outputs": []
    },
    {
      "cell_type": "code",
      "source": [
        "data.head()"
      ],
      "metadata": {
        "colab": {
          "base_uri": "https://localhost:8080/",
          "height": 348
        },
        "id": "Vr7K7uvlUcsN",
        "outputId": "e4ac4097-8285-4ec1-b7da-7fa49487c1d5"
      },
      "execution_count": 8,
      "outputs": [
        {
          "output_type": "execute_result",
          "data": {
            "text/plain": [
              "   expert_id  team_lead_id  user_id India vs NRI medicalconditionflag funnel  \\\n",
              "0    4158219         57319    88612        India                  Yes    Bot   \n",
              "1    3204022         57319   220396        India                  Yes    Bot   \n",
              "2    7505333       4409298   648533        India                  Yes     FT   \n",
              "3     888689         57319   682607        India                   No    Bot   \n",
              "4    7542742       1140109  2259628        India                  Yes    Bot   \n",
              "\n",
              "            event_type current_status        handled_time     slot_start_time  \\\n",
              "0  Booked Consultation           Done 2019-01-22 14:22:03 2019-01-22 10:30:00   \n",
              "1  Booked Consultation           Done 2018-12-29 18:43:25 2018-12-29 17:45:00   \n",
              "2  Booked Consultation           Done 2018-12-11 16:24:30 2018-12-11 15:45:00   \n",
              "3  Booked Consultation     Didnt Pick 2018-12-28 16:03:03 2018-12-28 15:30:00   \n",
              "4  Booked Consultation           Done 2019-01-08 14:56:04 2019-01-05 13:30:00   \n",
              "\n",
              "  booked_flag         payment_time target_class  purchase  \n",
              "0      Booked  2019-01-26 19:24:57            B      True  \n",
              "1      Booked  2018-12-29 19:40:26            A      True  \n",
              "2      Booked  2018-12-11 16:23:35            C      True  \n",
              "3      Booked  2019-01-05 18:25:42            A      True  \n",
              "4      Booked  2019-01-08 16:30:01            C      True  "
            ],
            "text/html": [
              "\n",
              "  <div id=\"df-914a434c-4d47-4207-a124-7ada5d4320f1\" class=\"colab-df-container\">\n",
              "    <div>\n",
              "<style scoped>\n",
              "    .dataframe tbody tr th:only-of-type {\n",
              "        vertical-align: middle;\n",
              "    }\n",
              "\n",
              "    .dataframe tbody tr th {\n",
              "        vertical-align: top;\n",
              "    }\n",
              "\n",
              "    .dataframe thead th {\n",
              "        text-align: right;\n",
              "    }\n",
              "</style>\n",
              "<table border=\"1\" class=\"dataframe\">\n",
              "  <thead>\n",
              "    <tr style=\"text-align: right;\">\n",
              "      <th></th>\n",
              "      <th>expert_id</th>\n",
              "      <th>team_lead_id</th>\n",
              "      <th>user_id</th>\n",
              "      <th>India vs NRI</th>\n",
              "      <th>medicalconditionflag</th>\n",
              "      <th>funnel</th>\n",
              "      <th>event_type</th>\n",
              "      <th>current_status</th>\n",
              "      <th>handled_time</th>\n",
              "      <th>slot_start_time</th>\n",
              "      <th>booked_flag</th>\n",
              "      <th>payment_time</th>\n",
              "      <th>target_class</th>\n",
              "      <th>purchase</th>\n",
              "    </tr>\n",
              "  </thead>\n",
              "  <tbody>\n",
              "    <tr>\n",
              "      <th>0</th>\n",
              "      <td>4158219</td>\n",
              "      <td>57319</td>\n",
              "      <td>88612</td>\n",
              "      <td>India</td>\n",
              "      <td>Yes</td>\n",
              "      <td>Bot</td>\n",
              "      <td>Booked Consultation</td>\n",
              "      <td>Done</td>\n",
              "      <td>2019-01-22 14:22:03</td>\n",
              "      <td>2019-01-22 10:30:00</td>\n",
              "      <td>Booked</td>\n",
              "      <td>2019-01-26 19:24:57</td>\n",
              "      <td>B</td>\n",
              "      <td>True</td>\n",
              "    </tr>\n",
              "    <tr>\n",
              "      <th>1</th>\n",
              "      <td>3204022</td>\n",
              "      <td>57319</td>\n",
              "      <td>220396</td>\n",
              "      <td>India</td>\n",
              "      <td>Yes</td>\n",
              "      <td>Bot</td>\n",
              "      <td>Booked Consultation</td>\n",
              "      <td>Done</td>\n",
              "      <td>2018-12-29 18:43:25</td>\n",
              "      <td>2018-12-29 17:45:00</td>\n",
              "      <td>Booked</td>\n",
              "      <td>2018-12-29 19:40:26</td>\n",
              "      <td>A</td>\n",
              "      <td>True</td>\n",
              "    </tr>\n",
              "    <tr>\n",
              "      <th>2</th>\n",
              "      <td>7505333</td>\n",
              "      <td>4409298</td>\n",
              "      <td>648533</td>\n",
              "      <td>India</td>\n",
              "      <td>Yes</td>\n",
              "      <td>FT</td>\n",
              "      <td>Booked Consultation</td>\n",
              "      <td>Done</td>\n",
              "      <td>2018-12-11 16:24:30</td>\n",
              "      <td>2018-12-11 15:45:00</td>\n",
              "      <td>Booked</td>\n",
              "      <td>2018-12-11 16:23:35</td>\n",
              "      <td>C</td>\n",
              "      <td>True</td>\n",
              "    </tr>\n",
              "    <tr>\n",
              "      <th>3</th>\n",
              "      <td>888689</td>\n",
              "      <td>57319</td>\n",
              "      <td>682607</td>\n",
              "      <td>India</td>\n",
              "      <td>No</td>\n",
              "      <td>Bot</td>\n",
              "      <td>Booked Consultation</td>\n",
              "      <td>Didnt Pick</td>\n",
              "      <td>2018-12-28 16:03:03</td>\n",
              "      <td>2018-12-28 15:30:00</td>\n",
              "      <td>Booked</td>\n",
              "      <td>2019-01-05 18:25:42</td>\n",
              "      <td>A</td>\n",
              "      <td>True</td>\n",
              "    </tr>\n",
              "    <tr>\n",
              "      <th>4</th>\n",
              "      <td>7542742</td>\n",
              "      <td>1140109</td>\n",
              "      <td>2259628</td>\n",
              "      <td>India</td>\n",
              "      <td>Yes</td>\n",
              "      <td>Bot</td>\n",
              "      <td>Booked Consultation</td>\n",
              "      <td>Done</td>\n",
              "      <td>2019-01-08 14:56:04</td>\n",
              "      <td>2019-01-05 13:30:00</td>\n",
              "      <td>Booked</td>\n",
              "      <td>2019-01-08 16:30:01</td>\n",
              "      <td>C</td>\n",
              "      <td>True</td>\n",
              "    </tr>\n",
              "  </tbody>\n",
              "</table>\n",
              "</div>\n",
              "    <div class=\"colab-df-buttons\">\n",
              "      \n",
              "  <div class=\"colab-df-container\">\n",
              "    <button class=\"colab-df-convert\" onclick=\"convertToInteractive('df-914a434c-4d47-4207-a124-7ada5d4320f1')\"\n",
              "            title=\"Convert this dataframe to an interactive table.\"\n",
              "            style=\"display:none;\">\n",
              "      \n",
              "  <svg xmlns=\"http://www.w3.org/2000/svg\" height=\"24px\" viewBox=\"0 -960 960 960\">\n",
              "    <path d=\"M120-120v-720h720v720H120Zm60-500h600v-160H180v160Zm220 220h160v-160H400v160Zm0 220h160v-160H400v160ZM180-400h160v-160H180v160Zm440 0h160v-160H620v160ZM180-180h160v-160H180v160Zm440 0h160v-160H620v160Z\"/>\n",
              "  </svg>\n",
              "    </button>\n",
              "    \n",
              "  <style>\n",
              "    .colab-df-container {\n",
              "      display:flex;\n",
              "      gap: 12px;\n",
              "    }\n",
              "\n",
              "    .colab-df-convert {\n",
              "      background-color: #E8F0FE;\n",
              "      border: none;\n",
              "      border-radius: 50%;\n",
              "      cursor: pointer;\n",
              "      display: none;\n",
              "      fill: #1967D2;\n",
              "      height: 32px;\n",
              "      padding: 0 0 0 0;\n",
              "      width: 32px;\n",
              "    }\n",
              "\n",
              "    .colab-df-convert:hover {\n",
              "      background-color: #E2EBFA;\n",
              "      box-shadow: 0px 1px 2px rgba(60, 64, 67, 0.3), 0px 1px 3px 1px rgba(60, 64, 67, 0.15);\n",
              "      fill: #174EA6;\n",
              "    }\n",
              "\n",
              "    .colab-df-buttons div {\n",
              "      margin-bottom: 4px;\n",
              "    }\n",
              "\n",
              "    [theme=dark] .colab-df-convert {\n",
              "      background-color: #3B4455;\n",
              "      fill: #D2E3FC;\n",
              "    }\n",
              "\n",
              "    [theme=dark] .colab-df-convert:hover {\n",
              "      background-color: #434B5C;\n",
              "      box-shadow: 0px 1px 3px 1px rgba(0, 0, 0, 0.15);\n",
              "      filter: drop-shadow(0px 1px 2px rgba(0, 0, 0, 0.3));\n",
              "      fill: #FFFFFF;\n",
              "    }\n",
              "  </style>\n",
              "\n",
              "    <script>\n",
              "      const buttonEl =\n",
              "        document.querySelector('#df-914a434c-4d47-4207-a124-7ada5d4320f1 button.colab-df-convert');\n",
              "      buttonEl.style.display =\n",
              "        google.colab.kernel.accessAllowed ? 'block' : 'none';\n",
              "\n",
              "      async function convertToInteractive(key) {\n",
              "        const element = document.querySelector('#df-914a434c-4d47-4207-a124-7ada5d4320f1');\n",
              "        const dataTable =\n",
              "          await google.colab.kernel.invokeFunction('convertToInteractive',\n",
              "                                                    [key], {});\n",
              "        if (!dataTable) return;\n",
              "\n",
              "        const docLinkHtml = 'Like what you see? Visit the ' +\n",
              "          '<a target=\"_blank\" href=https://colab.research.google.com/notebooks/data_table.ipynb>data table notebook</a>'\n",
              "          + ' to learn more about interactive tables.';\n",
              "        element.innerHTML = '';\n",
              "        dataTable['output_type'] = 'display_data';\n",
              "        await google.colab.output.renderOutput(dataTable, element);\n",
              "        const docLink = document.createElement('div');\n",
              "        docLink.innerHTML = docLinkHtml;\n",
              "        element.appendChild(docLink);\n",
              "      }\n",
              "    </script>\n",
              "  </div>\n",
              "  \n",
              "    </div>\n",
              "  </div>\n",
              "  "
            ]
          },
          "metadata": {},
          "execution_count": 8
        }
      ]
    },
    {
      "cell_type": "code",
      "source": [
        "from datetime import timedelta"
      ],
      "metadata": {
        "id": "Hl1368UuXJq-"
      },
      "execution_count": 9,
      "outputs": []
    },
    {
      "cell_type": "code",
      "source": [
        "# Convert date columns to datetime objects\n",
        "data['payment_time'] = pd.to_datetime(data['payment_time'])\n",
        "\n",
        "# Define time windows for 3-day and 7-day conversions\n",
        "three_day_window = timedelta(days=3)\n",
        "seven_day_window = timedelta(days=7)\n",
        "\n",
        "# Filter data for different medical conditions and funnels\n",
        "bot_with_medical = data[(data['medicalconditionflag'] == 'Yes') & (data['funnel'] == 'Bot')]\n",
        "bot_without_medical = data[(data['medicalconditionflag'] == 'No') & (data['funnel'] == 'Bot')]\n",
        "ft_with_medical = data[(data['medicalconditionflag'] == 'Yes') & (data['funnel'] == 'FT')]\n",
        "ft_without_medical = data[(data['medicalconditionflag'] == 'No') & (data['funnel'] == 'FT')]\n",
        "\n",
        "# Calculate conversions for 3-day and 7-day windows\n",
        "def calculate_conversion_rate(data, window):\n",
        "    conversions = sum(data['payment_time'] <= (data['payment_time'] + window))\n",
        "    conversion_rate = conversions / len(data)\n",
        "    return conversion_rate\n",
        "\n",
        "conversion_rate_3_day_bot_with_medical = calculate_conversion_rate(bot_with_medical, three_day_window)\n",
        "conversion_rate_7_day_bot_with_medical = calculate_conversion_rate(bot_with_medical, seven_day_window)\n",
        "\n",
        "conversion_rate_3_day_bot_without_medical = calculate_conversion_rate(bot_without_medical, three_day_window)\n",
        "conversion_rate_7_day_bot_without_medical = calculate_conversion_rate(bot_without_medical, seven_day_window)\n",
        "\n",
        "conversion_rate_3_day_ft_with_medical = calculate_conversion_rate(ft_with_medical, three_day_window)\n",
        "conversion_rate_7_day_ft_with_medical = calculate_conversion_rate(ft_with_medical, seven_day_window)\n",
        "\n",
        "conversion_rate_3_day_ft_without_medical = calculate_conversion_rate(ft_without_medical, three_day_window)\n",
        "conversion_rate_7_day_ft_without_medical = calculate_conversion_rate(ft_without_medical, seven_day_window)\n",
        "\n",
        "# Print the results\n",
        "print(\"3-Day Conversion Rates:\")\n",
        "print(\"Bot with Medical:\", conversion_rate_3_day_bot_with_medical)\n",
        "print(\"Bot without Medical:\", conversion_rate_3_day_bot_without_medical)\n",
        "print(\"FT with Medical:\", conversion_rate_3_day_ft_with_medical)\n",
        "print(\"FT without Medical:\", conversion_rate_3_day_ft_without_medical)\n",
        "\n",
        "print(\"\\n7-Day Conversion Rates:\")\n",
        "print(\"Bot with Medical:\", conversion_rate_7_day_bot_with_medical)\n",
        "print(\"Bot without Medical:\", conversion_rate_7_day_bot_without_medical)\n",
        "print(\"FT with Medical:\", conversion_rate_7_day_ft_with_medical)\n",
        "print(\"FT without Medical:\", conversion_rate_7_day_ft_without_medical)\n"
      ],
      "metadata": {
        "colab": {
          "base_uri": "https://localhost:8080/"
        },
        "id": "I1LKZH8Vd92S",
        "outputId": "961f7f11-b335-46a8-9c18-61e65aca5af1"
      },
      "execution_count": 10,
      "outputs": [
        {
          "output_type": "stream",
          "name": "stdout",
          "text": [
            "3-Day Conversion Rates:\n",
            "Bot with Medical: 0.0680013807386952\n",
            "Bot without Medical: 0.056420906888196606\n",
            "FT with Medical: 0.04336935518499964\n",
            "FT without Medical: 0.028568332851776942\n",
            "\n",
            "7-Day Conversion Rates:\n",
            "Bot with Medical: 0.0680013807386952\n",
            "Bot without Medical: 0.056420906888196606\n",
            "FT with Medical: 0.04336935518499964\n",
            "FT without Medical: 0.028568332851776942\n"
          ]
        }
      ]
    },
    {
      "cell_type": "code",
      "source": [
        "# Analyze Best Hours (Assuming 'payment_hour' is a column indicating the booking hour)"
      ],
      "metadata": {
        "id": "pY3cClibfyhY"
      },
      "execution_count": 11,
      "outputs": []
    },
    {
      "cell_type": "code",
      "source": [
        "# Extract the hour from the payment time\n",
        "data['payment_hour'] = data['payment_time'].dt.hour\n",
        "\n",
        "# Count the number of payments for each hour\n",
        "payment_counts = data['payment_hour'].value_counts().sort_index()\n",
        "\n",
        "# Print the hours with the most payments\n",
        "best_hours_for_sales = payment_counts.idxmax()\n",
        "print(\"Best Hour for Sales:\", best_hours_for_sales)\n"
      ],
      "metadata": {
        "colab": {
          "base_uri": "https://localhost:8080/"
        },
        "id": "n0NgvNNMfPsE",
        "outputId": "3adb1283-588e-47de-b903-690c73d3080e"
      },
      "execution_count": 12,
      "outputs": [
        {
          "output_type": "stream",
          "name": "stdout",
          "text": [
            "Best Hour for Sales: 22.0\n"
          ]
        }
      ]
    },
    {
      "cell_type": "code",
      "source": [
        "## Cross Check"
      ],
      "metadata": {
        "id": "8ehDLbX5hn2z"
      },
      "execution_count": 13,
      "outputs": []
    },
    {
      "cell_type": "code",
      "source": [
        "data.head()"
      ],
      "metadata": {
        "colab": {
          "base_uri": "https://localhost:8080/",
          "height": 348
        },
        "id": "B3Dg0G7zf9iM",
        "outputId": "224ab9d7-b616-4a07-b539-4bdf389c32d9"
      },
      "execution_count": 14,
      "outputs": [
        {
          "output_type": "execute_result",
          "data": {
            "text/plain": [
              "   expert_id  team_lead_id  user_id India vs NRI medicalconditionflag funnel  \\\n",
              "0    4158219         57319    88612        India                  Yes    Bot   \n",
              "1    3204022         57319   220396        India                  Yes    Bot   \n",
              "2    7505333       4409298   648533        India                  Yes     FT   \n",
              "3     888689         57319   682607        India                   No    Bot   \n",
              "4    7542742       1140109  2259628        India                  Yes    Bot   \n",
              "\n",
              "            event_type current_status        handled_time     slot_start_time  \\\n",
              "0  Booked Consultation           Done 2019-01-22 14:22:03 2019-01-22 10:30:00   \n",
              "1  Booked Consultation           Done 2018-12-29 18:43:25 2018-12-29 17:45:00   \n",
              "2  Booked Consultation           Done 2018-12-11 16:24:30 2018-12-11 15:45:00   \n",
              "3  Booked Consultation     Didnt Pick 2018-12-28 16:03:03 2018-12-28 15:30:00   \n",
              "4  Booked Consultation           Done 2019-01-08 14:56:04 2019-01-05 13:30:00   \n",
              "\n",
              "  booked_flag        payment_time target_class  purchase  payment_hour  \n",
              "0      Booked 2019-01-26 19:24:57            B      True          19.0  \n",
              "1      Booked 2018-12-29 19:40:26            A      True          19.0  \n",
              "2      Booked 2018-12-11 16:23:35            C      True          16.0  \n",
              "3      Booked 2019-01-05 18:25:42            A      True          18.0  \n",
              "4      Booked 2019-01-08 16:30:01            C      True          16.0  "
            ],
            "text/html": [
              "\n",
              "  <div id=\"df-7ecfe69b-a8c8-4d7d-8f43-2ab13ba583d8\" class=\"colab-df-container\">\n",
              "    <div>\n",
              "<style scoped>\n",
              "    .dataframe tbody tr th:only-of-type {\n",
              "        vertical-align: middle;\n",
              "    }\n",
              "\n",
              "    .dataframe tbody tr th {\n",
              "        vertical-align: top;\n",
              "    }\n",
              "\n",
              "    .dataframe thead th {\n",
              "        text-align: right;\n",
              "    }\n",
              "</style>\n",
              "<table border=\"1\" class=\"dataframe\">\n",
              "  <thead>\n",
              "    <tr style=\"text-align: right;\">\n",
              "      <th></th>\n",
              "      <th>expert_id</th>\n",
              "      <th>team_lead_id</th>\n",
              "      <th>user_id</th>\n",
              "      <th>India vs NRI</th>\n",
              "      <th>medicalconditionflag</th>\n",
              "      <th>funnel</th>\n",
              "      <th>event_type</th>\n",
              "      <th>current_status</th>\n",
              "      <th>handled_time</th>\n",
              "      <th>slot_start_time</th>\n",
              "      <th>booked_flag</th>\n",
              "      <th>payment_time</th>\n",
              "      <th>target_class</th>\n",
              "      <th>purchase</th>\n",
              "      <th>payment_hour</th>\n",
              "    </tr>\n",
              "  </thead>\n",
              "  <tbody>\n",
              "    <tr>\n",
              "      <th>0</th>\n",
              "      <td>4158219</td>\n",
              "      <td>57319</td>\n",
              "      <td>88612</td>\n",
              "      <td>India</td>\n",
              "      <td>Yes</td>\n",
              "      <td>Bot</td>\n",
              "      <td>Booked Consultation</td>\n",
              "      <td>Done</td>\n",
              "      <td>2019-01-22 14:22:03</td>\n",
              "      <td>2019-01-22 10:30:00</td>\n",
              "      <td>Booked</td>\n",
              "      <td>2019-01-26 19:24:57</td>\n",
              "      <td>B</td>\n",
              "      <td>True</td>\n",
              "      <td>19.0</td>\n",
              "    </tr>\n",
              "    <tr>\n",
              "      <th>1</th>\n",
              "      <td>3204022</td>\n",
              "      <td>57319</td>\n",
              "      <td>220396</td>\n",
              "      <td>India</td>\n",
              "      <td>Yes</td>\n",
              "      <td>Bot</td>\n",
              "      <td>Booked Consultation</td>\n",
              "      <td>Done</td>\n",
              "      <td>2018-12-29 18:43:25</td>\n",
              "      <td>2018-12-29 17:45:00</td>\n",
              "      <td>Booked</td>\n",
              "      <td>2018-12-29 19:40:26</td>\n",
              "      <td>A</td>\n",
              "      <td>True</td>\n",
              "      <td>19.0</td>\n",
              "    </tr>\n",
              "    <tr>\n",
              "      <th>2</th>\n",
              "      <td>7505333</td>\n",
              "      <td>4409298</td>\n",
              "      <td>648533</td>\n",
              "      <td>India</td>\n",
              "      <td>Yes</td>\n",
              "      <td>FT</td>\n",
              "      <td>Booked Consultation</td>\n",
              "      <td>Done</td>\n",
              "      <td>2018-12-11 16:24:30</td>\n",
              "      <td>2018-12-11 15:45:00</td>\n",
              "      <td>Booked</td>\n",
              "      <td>2018-12-11 16:23:35</td>\n",
              "      <td>C</td>\n",
              "      <td>True</td>\n",
              "      <td>16.0</td>\n",
              "    </tr>\n",
              "    <tr>\n",
              "      <th>3</th>\n",
              "      <td>888689</td>\n",
              "      <td>57319</td>\n",
              "      <td>682607</td>\n",
              "      <td>India</td>\n",
              "      <td>No</td>\n",
              "      <td>Bot</td>\n",
              "      <td>Booked Consultation</td>\n",
              "      <td>Didnt Pick</td>\n",
              "      <td>2018-12-28 16:03:03</td>\n",
              "      <td>2018-12-28 15:30:00</td>\n",
              "      <td>Booked</td>\n",
              "      <td>2019-01-05 18:25:42</td>\n",
              "      <td>A</td>\n",
              "      <td>True</td>\n",
              "      <td>18.0</td>\n",
              "    </tr>\n",
              "    <tr>\n",
              "      <th>4</th>\n",
              "      <td>7542742</td>\n",
              "      <td>1140109</td>\n",
              "      <td>2259628</td>\n",
              "      <td>India</td>\n",
              "      <td>Yes</td>\n",
              "      <td>Bot</td>\n",
              "      <td>Booked Consultation</td>\n",
              "      <td>Done</td>\n",
              "      <td>2019-01-08 14:56:04</td>\n",
              "      <td>2019-01-05 13:30:00</td>\n",
              "      <td>Booked</td>\n",
              "      <td>2019-01-08 16:30:01</td>\n",
              "      <td>C</td>\n",
              "      <td>True</td>\n",
              "      <td>16.0</td>\n",
              "    </tr>\n",
              "  </tbody>\n",
              "</table>\n",
              "</div>\n",
              "    <div class=\"colab-df-buttons\">\n",
              "      \n",
              "  <div class=\"colab-df-container\">\n",
              "    <button class=\"colab-df-convert\" onclick=\"convertToInteractive('df-7ecfe69b-a8c8-4d7d-8f43-2ab13ba583d8')\"\n",
              "            title=\"Convert this dataframe to an interactive table.\"\n",
              "            style=\"display:none;\">\n",
              "      \n",
              "  <svg xmlns=\"http://www.w3.org/2000/svg\" height=\"24px\" viewBox=\"0 -960 960 960\">\n",
              "    <path d=\"M120-120v-720h720v720H120Zm60-500h600v-160H180v160Zm220 220h160v-160H400v160Zm0 220h160v-160H400v160ZM180-400h160v-160H180v160Zm440 0h160v-160H620v160ZM180-180h160v-160H180v160Zm440 0h160v-160H620v160Z\"/>\n",
              "  </svg>\n",
              "    </button>\n",
              "    \n",
              "  <style>\n",
              "    .colab-df-container {\n",
              "      display:flex;\n",
              "      gap: 12px;\n",
              "    }\n",
              "\n",
              "    .colab-df-convert {\n",
              "      background-color: #E8F0FE;\n",
              "      border: none;\n",
              "      border-radius: 50%;\n",
              "      cursor: pointer;\n",
              "      display: none;\n",
              "      fill: #1967D2;\n",
              "      height: 32px;\n",
              "      padding: 0 0 0 0;\n",
              "      width: 32px;\n",
              "    }\n",
              "\n",
              "    .colab-df-convert:hover {\n",
              "      background-color: #E2EBFA;\n",
              "      box-shadow: 0px 1px 2px rgba(60, 64, 67, 0.3), 0px 1px 3px 1px rgba(60, 64, 67, 0.15);\n",
              "      fill: #174EA6;\n",
              "    }\n",
              "\n",
              "    .colab-df-buttons div {\n",
              "      margin-bottom: 4px;\n",
              "    }\n",
              "\n",
              "    [theme=dark] .colab-df-convert {\n",
              "      background-color: #3B4455;\n",
              "      fill: #D2E3FC;\n",
              "    }\n",
              "\n",
              "    [theme=dark] .colab-df-convert:hover {\n",
              "      background-color: #434B5C;\n",
              "      box-shadow: 0px 1px 3px 1px rgba(0, 0, 0, 0.15);\n",
              "      filter: drop-shadow(0px 1px 2px rgba(0, 0, 0, 0.3));\n",
              "      fill: #FFFFFF;\n",
              "    }\n",
              "  </style>\n",
              "\n",
              "    <script>\n",
              "      const buttonEl =\n",
              "        document.querySelector('#df-7ecfe69b-a8c8-4d7d-8f43-2ab13ba583d8 button.colab-df-convert');\n",
              "      buttonEl.style.display =\n",
              "        google.colab.kernel.accessAllowed ? 'block' : 'none';\n",
              "\n",
              "      async function convertToInteractive(key) {\n",
              "        const element = document.querySelector('#df-7ecfe69b-a8c8-4d7d-8f43-2ab13ba583d8');\n",
              "        const dataTable =\n",
              "          await google.colab.kernel.invokeFunction('convertToInteractive',\n",
              "                                                    [key], {});\n",
              "        if (!dataTable) return;\n",
              "\n",
              "        const docLinkHtml = 'Like what you see? Visit the ' +\n",
              "          '<a target=\"_blank\" href=https://colab.research.google.com/notebooks/data_table.ipynb>data table notebook</a>'\n",
              "          + ' to learn more about interactive tables.';\n",
              "        element.innerHTML = '';\n",
              "        dataTable['output_type'] = 'display_data';\n",
              "        await google.colab.output.renderOutput(dataTable, element);\n",
              "        const docLink = document.createElement('div');\n",
              "        docLink.innerHTML = docLinkHtml;\n",
              "        element.appendChild(docLink);\n",
              "      }\n",
              "    </script>\n",
              "  </div>\n",
              "  \n",
              "    </div>\n",
              "  </div>\n",
              "  "
            ]
          },
          "metadata": {},
          "execution_count": 14
        }
      ]
    },
    {
      "cell_type": "code",
      "source": [
        "a = data['payment_hour'].value_counts().sort_index(ascending=False)"
      ],
      "metadata": {
        "id": "OFmUzoCTgCME"
      },
      "execution_count": 15,
      "outputs": []
    },
    {
      "cell_type": "code",
      "source": [
        "a.max()"
      ],
      "metadata": {
        "colab": {
          "base_uri": "https://localhost:8080/"
        },
        "id": "TUHrf5aD2a9L",
        "outputId": "5af4f4e5-f51c-4d08-9bcf-3d28a97e4a69"
      },
      "execution_count": 16,
      "outputs": [
        {
          "output_type": "execute_result",
          "data": {
            "text/plain": [
              "270"
            ]
          },
          "metadata": {},
          "execution_count": 16
        }
      ]
    },
    {
      "cell_type": "code",
      "source": [
        "a"
      ],
      "metadata": {
        "id": "26WP6yM8hiAL",
        "colab": {
          "base_uri": "https://localhost:8080/"
        },
        "outputId": "9020e153-9616-4a76-cbaa-17ae856c4f19"
      },
      "execution_count": 17,
      "outputs": [
        {
          "output_type": "execute_result",
          "data": {
            "text/plain": [
              "23.0    207\n",
              "22.0    270\n",
              "21.0    218\n",
              "20.0    244\n",
              "19.0    248\n",
              "18.0    246\n",
              "17.0    230\n",
              "16.0    193\n",
              "15.0    187\n",
              "14.0    197\n",
              "13.0    187\n",
              "12.0    212\n",
              "11.0    217\n",
              "10.0    167\n",
              "9.0     118\n",
              "8.0      76\n",
              "7.0      30\n",
              "6.0      12\n",
              "5.0       6\n",
              "4.0       5\n",
              "3.0       6\n",
              "2.0       9\n",
              "1.0      18\n",
              "0.0      57\n",
              "Name: payment_hour, dtype: int64"
            ]
          },
          "metadata": {},
          "execution_count": 17
        }
      ]
    },
    {
      "cell_type": "code",
      "source": [],
      "metadata": {
        "id": "IfofA4Pw2XQt"
      },
      "execution_count": 17,
      "outputs": []
    },
    {
      "cell_type": "code",
      "source": [
        "# Convert 'a' to a pandas Series\n",
        "a_series = pd.Series(a)"
      ],
      "metadata": {
        "id": "iA3qKdNCxF_8"
      },
      "execution_count": 18,
      "outputs": []
    },
    {
      "cell_type": "code",
      "source": [
        "max_index = a_series.idxmax()"
      ],
      "metadata": {
        "id": "9Gm40a1AuZEz"
      },
      "execution_count": 19,
      "outputs": []
    },
    {
      "cell_type": "code",
      "source": [
        "max_index"
      ],
      "metadata": {
        "colab": {
          "base_uri": "https://localhost:8080/"
        },
        "id": "LT6FrkFbuZPB",
        "outputId": "7f58971d-0425-4383-cac3-f39c24bffaf3"
      },
      "execution_count": 20,
      "outputs": [
        {
          "output_type": "execute_result",
          "data": {
            "text/plain": [
              "22.0"
            ]
          },
          "metadata": {},
          "execution_count": 20
        }
      ]
    },
    {
      "cell_type": "code",
      "source": [
        "import matplotlib.pyplot as plt\n",
        "import pandas as pd\n",
        "\n",
        "# Find the index of the maximum payment_hour\n",
        "max_value = data['payment_hour'].value_counts().idxmax()\n",
        "\n",
        "# Plot the data\n",
        "plt.plot(data['payment_hour'])\n",
        "plt.scatter(max_value, data['payment_hour'][max_value], color='red', label='Max payment_hour')\n",
        "plt.text(max_index, max_value, f'Max: {max_value}', fontsize=12, ha='left', va='bottom')\n",
        "\n",
        "plt.legend()\n",
        "plt.xlabel('Index')\n",
        "plt.ylabel('payment_hour')\n",
        "plt.title('Visualization of Maximum payment_hour')\n",
        "\n",
        "plt.show()\n"
      ],
      "metadata": {
        "colab": {
          "base_uri": "https://localhost:8080/",
          "height": 472
        },
        "id": "UWOJx2X1hgsj",
        "outputId": "d29e8a29-4f5a-45df-9a73-6bbbc47143bb"
      },
      "execution_count": 21,
      "outputs": [
        {
          "output_type": "display_data",
          "data": {
            "text/plain": [
              "<Figure size 640x480 with 1 Axes>"
            ],
            "image/png": "[encoded data removed]"
          },
          "metadata": {}
        }
      ]
    },
    {
      "cell_type": "markdown",
      "source": [
        "## **Insights from the Data**"
      ],
      "metadata": {
        "id": "ajClBsa_lmMa"
      }
    },
    {
      "cell_type": "markdown",
      "source": [
        "##### 1) The highest 3-Day and 7-Day conversion rates are observed for the \"Bot with Medical\" group, with a conversion rate of approximately 6.80%.\n",
        "2) The \"Bot without Medical\" group also has a relatively high conversion rate, with approximately 5.64% for both 3-Day and 7-Day periods.\n",
        "\n",
        "3) In contrast, the \"FT with Medical\" and \"FT without Medical\" groups have lower conversion rates, with approximately 4.34% and 2.86% for both 3-Day and 7-Day periods, respectively.\n",
        "\n",
        "4) The presence of a medical condition appears to have a positive impact on conversion rates. Both \"Bot with Medical\" and \"Bot without Medical\" groups have higher conversion rates compared to their \"FT\" counterparts.\n",
        "\n",
        "5) As we can see that 22 hour(10 PM) of the day is the best time for the sales person to connect with the customers because that time is the higher chance for customer conversion."
      ],
      "metadata": {
        "id": "Lc01Y4CHl155"
      }
    },
    {
      "cell_type": "markdown",
      "source": [
        "## **Additional Info**"
      ],
      "metadata": {
        "id": "5UJqaBzenp1O"
      }
    },
    {
      "cell_type": "markdown",
      "source": [
        "##### 1) It's interesting to note that the conversion rates remain the same for both 3-Day and 7-Day periods within each group. This consistency suggests that the majority of conversions occur within the initial 3 days, and the additional 4 days have a limited impact on conversion rates.\n",
        "\n",
        "2) There is a noticeable gap in conversion rates between the \"Bot with Medical\" and \"FT with Medical\" groups. This gap suggests that there may be room for improvement in converting users from the \"FT with Medical\" funnel."
      ],
      "metadata": {
        "id": "ZFJi7K0gn-JW"
      }
    },
    {
      "cell_type": "markdown",
      "source": [
        "## Measures to Improve Conversion"
      ],
      "metadata": {
        "id": "_PKgonedoyZJ"
      }
    },
    {
      "cell_type": "markdown",
      "source": [
        "##### 1) Consider offering limited-time incentives or promotions to encourage users to convert. This could include discounts, free trials, or exclusive offers.\n",
        "\n",
        "2) Use retargeting ads on platforms like Google Ads and Facebook to remind users about your product or service. Show ads to users who have visited your website but have not converted.\n",
        "\n",
        "3) Collect feedback from potential customers who didn't convert. This can help you identify pain points and objections, allowing you to address them more effectively."
      ],
      "metadata": {
        "id": "7m9PPzqHpAtj"
      }
    }
  ]
}